{
  "nbformat": 4,
  "nbformat_minor": 0,
  "metadata": {
    "colab": {
      "name": "Upscale de Anime antiguo con modelo custom de ESRGAN by Génesis Lloret Ramos",
      "provenance": [],
      "collapsed_sections": []
    },
    "kernelspec": {
      "name": "python3",
      "display_name": "Python 3"
    },
    "language_info": {
      "name": "python"
    },
    "accelerator": "GPU"
  },
  "cells": [
    {
      "cell_type": "markdown",
      "metadata": {
        "id": "s5OXYKTCYvKE"
      },
      "source": [
        "# **UPSCALE CON INTELIGENCIA ARTIFICIAL**\n",
        "---\n",
        "*Proyecto creado para mejorar contenido visual antiguo utilizando inteligencias artificiales gracias a Google Colabs*\n",
        "---\n",
        "*Este programa de python de colab, utiliza:*\n",
        "---\n",
        "*Programa de Upscale con IA* 👉 **[ESRGAN](https://github.com/BlueAmulet/ESRGAN)**  \n",
        "*Consulta todos los modelos compatibles para tu proyecto* 👉 **[UPSCALE WIKI](https://upscale.wiki/wiki/Model_Database)**  \n",
        "`*Recuerda que los modelos compatibles son en formato PTH, por si prefieres cambiar el modelo a tu conveniencia.*`\n",
        "\n"
      ]
    },
    {
      "cell_type": "markdown",
      "metadata": {
        "id": "tZIyCMbf_TnN"
      },
      "source": [
        "\n",
        "# 0. Comprobar GPU"
      ]
    },
    {
      "cell_type": "code",
      "metadata": {
        "colab": {
          "base_uri": "https://localhost:8080/"
        },
        "id": "d4Gjr15o_QGm",
        "outputId": "9832fd88-66eb-4aa1-d809-78685b91e30e"
      },
      "source": [
        "!nvidia-smi"
      ],
      "execution_count": 3,
      "outputs": [
        {
          "output_type": "stream",
          "name": "stdout",
          "text": [
            "NVIDIA-SMI has failed because it couldn't communicate with the NVIDIA driver. Make sure that the latest NVIDIA driver is installed and running.\n",
            "\n"
          ]
        }
      ]
    },
    {
      "cell_type": "markdown",
      "metadata": {
        "id": "_0wxyJuJ_gac"
      },
      "source": [
        "# 1. Monta tu drive y importa tus frames en:\n",
        "```\n",
        "/content/upload\n",
        "```"
      ]
    },
    {
      "cell_type": "code",
      "metadata": {
        "colab": {
          "base_uri": "https://localhost:8080/"
        },
        "id": "QCDV_qtW8g2a",
        "outputId": "6dde3b9e-f288-4ed3-a6fa-2b55a614323b"
      },
      "source": [
        "from google.colab import drive\n",
        "drive.mount('/content/gdrive')"
      ],
      "execution_count": 4,
      "outputs": [
        {
          "output_type": "stream",
          "name": "stdout",
          "text": [
            "Mounted at /content/gdrive\n"
          ]
        }
      ]
    },
    {
      "cell_type": "code",
      "metadata": {
        "id": "rUVMrWRb9UsS"
      },
      "source": [
        "!mkdir upload\n",
        "!sudo apt install unzip\n",
        "!cp '/content/gdrive/MyDrive/test_v1.zip' '/content/video.zip'\n",
        "!unzip '/content/video.zip' -d '/content/upload/'"
      ],
      "execution_count": null,
      "outputs": []
    },
    {
      "cell_type": "markdown",
      "metadata": {
        "id": "pdI-kGHz_phm"
      },
      "source": [
        "# 2. Descarga ESRGAN y sus complementos"
      ]
    },
    {
      "cell_type": "code",
      "metadata": {
        "colab": {
          "base_uri": "https://localhost:8080/"
        },
        "id": "dqT4wKfk-3--",
        "outputId": "8e45d6b4-1bd5-4378-9907-2a740fc6d284"
      },
      "source": [
        "!git clone https://github.com/genesislloretramos/upscale-old-anime-v2\n",
        "!pip3 install torch==1.10.0+cu113 torchvision==0.11.1+cu113 torchaudio==0.10.0+cu113 -f https://download.pytorch.org/whl/cu113/torch_stable.html"
      ],
      "execution_count": 7,
      "outputs": [
        {
          "output_type": "stream",
          "name": "stdout",
          "text": [
            "Cloning into 'ESRGAN'...\n",
            "remote: Enumerating objects: 312, done.\u001b[K\n",
            "remote: Total 312 (delta 0), reused 0 (delta 0), pack-reused 312\u001b[K\n",
            "Receiving objects: 100% (312/312), 24.88 MiB | 2.38 MiB/s, done.\n",
            "Resolving deltas: 100% (132/132), done.\n"
          ]
        }
      ]
    },
    {
      "cell_type": "markdown",
      "metadata": {
        "id": "_fDHPaNDG7h9"
      },
      "source": [
        "# 3. Acabar de configurar ESRGAN"
      ]
    },
    {
      "cell_type": "markdown",
      "metadata": {
        "id": "p49gUNSFHRTd"
      },
      "source": [
        "## Carpetas faltantes"
      ]
    },
    {
      "cell_type": "code",
      "metadata": {
        "id": "AF5tuYFxHGVt"
      },
      "source": [
        "!mkdir /content/upscale-old-anime-v2/results\n",
        "!mkdir /content/upscale-old-anime-v2/LR"
      ],
      "execution_count": 9,
      "outputs": []
    },
    {
      "cell_type": "markdown",
      "metadata": {
        "id": "EcZv_SoFHYpd"
      },
      "source": [
        "## Mover tu contenido\n",
        "```\n",
        "/content/upload\n",
        "```"
      ]
    },
    {
      "cell_type": "code",
      "metadata": {
        "id": "Mc-1TGGtHYMN"
      },
      "source": [
        "import os\n",
        "import shutil\n",
        "#@title Escribe la ruta absoluta donde estan tus frames\n",
        "source_dir = \"/content/upload/\" #@param {type:\"string\"}\n",
        "target_dir = '/content/upscale-old-anime-v2/LR'\n",
        "file_names = os.listdir(source_dir)\n",
        "for file_name in file_names:\n",
        "    shutil.move(os.path.join(source_dir, file_name), target_dir)\n",
        "     \n"
      ],
      "execution_count": 10,
      "outputs": []
    },
    {
      "cell_type": "markdown",
      "metadata": {
        "id": "J_avn3HDFN1t"
      },
      "source": [
        "# 5. Ejecutar ESRGAN y Exportar en ZIP y Descargar el proyecto"
      ]
    },
    {
      "cell_type": "code",
      "metadata": {
        "id": "H1mLl0VCFNd2"
      },
      "source": [
        "# desavilita con un comentario la 1 de las 2 proximas lineas de código:\n",
        "!cd '/content/upscale-old-anime-v2' && python '/content/upscale-old-anime-v2/run.py' '/content/upscale-old-anime-v2/models/x4.pth'\n",
        "!cd '/content/upscale-old-anime-v2' && python '/content/upscale-old-anime-v2/run.py' '/content/upscale-old-anime-v2/models/x4.pth'\n",
        "\n",
        "# comprimir resultados\n",
        "!zip -r '/content/resultados.zip' '/content/ESRGAN/results'\n",
        "\n",
        "# copiar al drive los resultados\n",
        "!cp '/content/resultados.zip' '/content/gdrive/MyDrive/resultados.zip'\n",
        "\n",
        "# descargar los resultados\n",
        "from google.colab import files\n",
        "files.download('/content/resultados.zip')"
      ],
      "execution_count": null,
      "outputs": []
    }
  ]
}